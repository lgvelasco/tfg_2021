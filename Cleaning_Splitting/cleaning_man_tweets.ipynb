{
 "metadata": {
  "language_info": {
   "codemirror_mode": {
    "name": "ipython",
    "version": 3
   },
   "file_extension": ".py",
   "mimetype": "text/x-python",
   "name": "python",
   "nbconvert_exporter": "python",
   "pygments_lexer": "ipython3",
   "version": "3.7.6-final"
  },
  "orig_nbformat": 2,
  "kernelspec": {
   "name": "python3",
   "display_name": "Python 3.7.6 64-bit ('env': venv)",
   "metadata": {
    "interpreter": {
     "hash": "b48b20ee193eac9cd28d4be31141cf0d639bd17390df686c3cb69a939f9d16ba"
    }
   }
  }
 },
 "nbformat": 4,
 "nbformat_minor": 2,
 "cells": [
  {
   "cell_type": "code",
   "execution_count": 1,
   "metadata": {},
   "outputs": [],
   "source": [
    "import pandas as pd"
   ]
  },
  {
   "cell_type": "code",
   "execution_count": 2,
   "metadata": {},
   "outputs": [],
   "source": [
    "df = pd.read_excel('dev/tt_data.xlsx')"
   ]
  },
  {
   "cell_type": "code",
   "execution_count": 3,
   "metadata": {},
   "outputs": [
    {
     "output_type": "execute_result",
     "data": {
      "text/plain": [
       "                                                post   source  \\\n",
       "0  The world's most innovative companies are obse...  twitter   \n",
       "1  Mr. Meissner is a couple gym selfies away from...  twitter   \n",
       "2  El que dice que la bolsa no es suerte, no enti...  twitter   \n",
       "3  @PlugInFUD Just a bunch of degenerates dunking...  twitter   \n",
       "4  $TSLA - absolutely.  This fraud is not only ge...  twitter   \n",
       "\n",
       "                                          clean_post  label  Unnamed: 4  \\\n",
       "0  The world's most innovative companies are obse...    1.0         NaN   \n",
       "1  Mr. Meissner is a couple gym selfies away from...    0.0         NaN   \n",
       "2  El que dice que la bolsa no es suerte, no enti...    2.0         NaN   \n",
       "3       Just a bunch of degenerates dunking on $TSLA   -1.0         NaN   \n",
       "4  $TSLA - absolutely.  This fraud is not only ge...   -1.0         NaN   \n",
       "\n",
       "   Unnamed: 5  Unnamed: 6  \n",
       "0         NaN         NaN  \n",
       "1         NaN         NaN  \n",
       "2         NaN         NaN  \n",
       "3         NaN         NaN  \n",
       "4         NaN         NaN  "
      ],
      "text/html": "<div>\n<style scoped>\n    .dataframe tbody tr th:only-of-type {\n        vertical-align: middle;\n    }\n\n    .dataframe tbody tr th {\n        vertical-align: top;\n    }\n\n    .dataframe thead th {\n        text-align: right;\n    }\n</style>\n<table border=\"1\" class=\"dataframe\">\n  <thead>\n    <tr style=\"text-align: right;\">\n      <th></th>\n      <th>post</th>\n      <th>source</th>\n      <th>clean_post</th>\n      <th>label</th>\n      <th>Unnamed: 4</th>\n      <th>Unnamed: 5</th>\n      <th>Unnamed: 6</th>\n    </tr>\n  </thead>\n  <tbody>\n    <tr>\n      <th>0</th>\n      <td>The world's most innovative companies are obse...</td>\n      <td>twitter</td>\n      <td>The world's most innovative companies are obse...</td>\n      <td>1.0</td>\n      <td>NaN</td>\n      <td>NaN</td>\n      <td>NaN</td>\n    </tr>\n    <tr>\n      <th>1</th>\n      <td>Mr. Meissner is a couple gym selfies away from...</td>\n      <td>twitter</td>\n      <td>Mr. Meissner is a couple gym selfies away from...</td>\n      <td>0.0</td>\n      <td>NaN</td>\n      <td>NaN</td>\n      <td>NaN</td>\n    </tr>\n    <tr>\n      <th>2</th>\n      <td>El que dice que la bolsa no es suerte, no enti...</td>\n      <td>twitter</td>\n      <td>El que dice que la bolsa no es suerte, no enti...</td>\n      <td>2.0</td>\n      <td>NaN</td>\n      <td>NaN</td>\n      <td>NaN</td>\n    </tr>\n    <tr>\n      <th>3</th>\n      <td>@PlugInFUD Just a bunch of degenerates dunking...</td>\n      <td>twitter</td>\n      <td>Just a bunch of degenerates dunking on $TSLA</td>\n      <td>-1.0</td>\n      <td>NaN</td>\n      <td>NaN</td>\n      <td>NaN</td>\n    </tr>\n    <tr>\n      <th>4</th>\n      <td>$TSLA - absolutely.  This fraud is not only ge...</td>\n      <td>twitter</td>\n      <td>$TSLA - absolutely.  This fraud is not only ge...</td>\n      <td>-1.0</td>\n      <td>NaN</td>\n      <td>NaN</td>\n      <td>NaN</td>\n    </tr>\n  </tbody>\n</table>\n</div>"
     },
     "metadata": {},
     "execution_count": 3
    }
   ],
   "source": [
    "df.head()"
   ]
  },
  {
   "cell_type": "code",
   "execution_count": 5,
   "metadata": {},
   "outputs": [
    {
     "output_type": "execute_result",
     "data": {
      "text/plain": [
       "                                          clean_post  label\n",
       "0  The world's most innovative companies are obse...    1.0\n",
       "1  Mr. Meissner is a couple gym selfies away from...    0.0\n",
       "2  El que dice que la bolsa no es suerte, no enti...    2.0\n",
       "3       Just a bunch of degenerates dunking on $TSLA   -1.0\n",
       "4  $TSLA - absolutely.  This fraud is not only ge...   -1.0"
      ],
      "text/html": "<div>\n<style scoped>\n    .dataframe tbody tr th:only-of-type {\n        vertical-align: middle;\n    }\n\n    .dataframe tbody tr th {\n        vertical-align: top;\n    }\n\n    .dataframe thead th {\n        text-align: right;\n    }\n</style>\n<table border=\"1\" class=\"dataframe\">\n  <thead>\n    <tr style=\"text-align: right;\">\n      <th></th>\n      <th>clean_post</th>\n      <th>label</th>\n    </tr>\n  </thead>\n  <tbody>\n    <tr>\n      <th>0</th>\n      <td>The world's most innovative companies are obse...</td>\n      <td>1.0</td>\n    </tr>\n    <tr>\n      <th>1</th>\n      <td>Mr. Meissner is a couple gym selfies away from...</td>\n      <td>0.0</td>\n    </tr>\n    <tr>\n      <th>2</th>\n      <td>El que dice que la bolsa no es suerte, no enti...</td>\n      <td>2.0</td>\n    </tr>\n    <tr>\n      <th>3</th>\n      <td>Just a bunch of degenerates dunking on $TSLA</td>\n      <td>-1.0</td>\n    </tr>\n    <tr>\n      <th>4</th>\n      <td>$TSLA - absolutely.  This fraud is not only ge...</td>\n      <td>-1.0</td>\n    </tr>\n  </tbody>\n</table>\n</div>"
     },
     "metadata": {},
     "execution_count": 5
    }
   ],
   "source": [
    "df = df[['clean_post', 'label']]\n",
    "df.head()"
   ]
  },
  {
   "cell_type": "code",
   "execution_count": 8,
   "metadata": {},
   "outputs": [
    {
     "output_type": "stream",
     "name": "stdout",
     "text": [
      "6000\nclean_post       3\nlabel         4977\ndtype: int64\n"
     ]
    }
   ],
   "source": [
    "print(len(df.index))\n",
    "print(df.isna().sum())"
   ]
  },
  {
   "cell_type": "code",
   "execution_count": 9,
   "metadata": {},
   "outputs": [],
   "source": [
    "df_clean = df.dropna()"
   ]
  },
  {
   "cell_type": "code",
   "execution_count": null,
   "metadata": {},
   "outputs": [],
   "source": []
  },
  {
   "cell_type": "code",
   "execution_count": 19,
   "metadata": {},
   "outputs": [
    {
     "output_type": "stream",
     "name": "stdout",
     "text": [
      "1023\n"
     ]
    }
   ],
   "source": [
    "print(len(df_clean.index))"
   ]
  },
  {
   "cell_type": "code",
   "execution_count": 26,
   "metadata": {},
   "outputs": [],
   "source": [
    "df_c= df_clean[(df_clean['label']==-1) | (df_clean['label']==1)]"
   ]
  },
  {
   "cell_type": "code",
   "execution_count": 27,
   "metadata": {},
   "outputs": [
    {
     "output_type": "stream",
     "name": "stdout",
     "text": [
      "1000\n"
     ]
    }
   ],
   "source": [
    "print(len(df_c.index))"
   ]
  },
  {
   "cell_type": "code",
   "execution_count": 28,
   "metadata": {},
   "outputs": [
    {
     "output_type": "execute_result",
     "data": {
      "text/plain": [
       "                                          clean_post  label\n",
       "0  The world's most innovative companies are obse...    1.0\n",
       "3       Just a bunch of degenerates dunking on $TSLA   -1.0\n",
       "4  $TSLA - absolutely.  This fraud is not only ge...   -1.0\n",
       "5  If Elon is headed to #Shanghai for groundbreak...    1.0\n",
       "6  BREAKING: Tesla researchers publish work on hy...    1.0"
      ],
      "text/html": "<div>\n<style scoped>\n    .dataframe tbody tr th:only-of-type {\n        vertical-align: middle;\n    }\n\n    .dataframe tbody tr th {\n        vertical-align: top;\n    }\n\n    .dataframe thead th {\n        text-align: right;\n    }\n</style>\n<table border=\"1\" class=\"dataframe\">\n  <thead>\n    <tr style=\"text-align: right;\">\n      <th></th>\n      <th>clean_post</th>\n      <th>label</th>\n    </tr>\n  </thead>\n  <tbody>\n    <tr>\n      <th>0</th>\n      <td>The world's most innovative companies are obse...</td>\n      <td>1.0</td>\n    </tr>\n    <tr>\n      <th>3</th>\n      <td>Just a bunch of degenerates dunking on $TSLA</td>\n      <td>-1.0</td>\n    </tr>\n    <tr>\n      <th>4</th>\n      <td>$TSLA - absolutely.  This fraud is not only ge...</td>\n      <td>-1.0</td>\n    </tr>\n    <tr>\n      <th>5</th>\n      <td>If Elon is headed to #Shanghai for groundbreak...</td>\n      <td>1.0</td>\n    </tr>\n    <tr>\n      <th>6</th>\n      <td>BREAKING: Tesla researchers publish work on hy...</td>\n      <td>1.0</td>\n    </tr>\n  </tbody>\n</table>\n</div>"
     },
     "metadata": {},
     "execution_count": 28
    }
   ],
   "source": [
    "df_c.head()"
   ]
  },
  {
   "cell_type": "code",
   "execution_count": 29,
   "metadata": {},
   "outputs": [],
   "source": [
    "df_c.to_csv('final/man_labeled_tweets.csv', index=False)"
   ]
  },
  {
   "cell_type": "code",
   "execution_count": null,
   "metadata": {},
   "outputs": [],
   "source": []
  }
 ]
}
{
 "metadata": {
  "language_info": {
   "codemirror_mode": {
    "name": "ipython",
    "version": 3
   },
   "file_extension": ".py",
   "mimetype": "text/x-python",
   "name": "python",
   "nbconvert_exporter": "python",
   "pygments_lexer": "ipython3",
   "version": "3.7.6"
  },
  "orig_nbformat": 2,
  "kernelspec": {
   "name": "python3",
   "display_name": "Python 3",
   "language": "python"
  }
 },
 "nbformat": 4,
 "nbformat_minor": 2,
 "cells": [
  {
   "cell_type": "code",
   "execution_count": 36,
   "metadata": {},
   "outputs": [],
   "source": [
    "import pandas as pd\n",
    "from numpy import random\n",
    "import re"
   ]
  },
  {
   "cell_type": "code",
   "execution_count": 26,
   "metadata": {},
   "outputs": [],
   "source": [
    "TSLA_tweets = pd.read_csv('tweets_TSLA.csv')\n",
    "WSB_posts = pd.read_csv('training_wallsteetbets_posts.csv')\n",
    "SP_tweets = pd.read_csv('tweets_S&P.csv')"
   ]
  },
  {
   "cell_type": "code",
   "execution_count": 27,
   "metadata": {},
   "outputs": [
    {
     "output_type": "stream",
     "name": "stdout",
     "text": [
      "30319\n62554\n"
     ]
    }
   ],
   "source": [
    "print(len(SP_tweets.index))\n",
    "print(len(SP_tweets_2.index))"
   ]
  },
  {
   "cell_type": "code",
   "execution_count": 28,
   "metadata": {},
   "outputs": [
    {
     "output_type": "stream",
     "name": "stdout",
     "text": [
      "Index(['id', 'conversation_id', 'created_at', 'date', 'time', 'timezone',\n       'user_id', 'username', 'name', 'place', 'tweet', 'language', 'mentions',\n       'urls', 'photos', 'replies_count', 'retweets_count', 'likes_count',\n       'hashtags', 'cashtags', 'link', 'retweet', 'quote_url', 'video',\n       'thumbnail', 'near', 'geo', 'source', 'user_rt_id', 'user_rt',\n       'retweet_id', 'reply_to', 'retweet_date', 'translate', 'trans_src',\n       'trans_dest'],\n      dtype='object')\n\nIndex(['created_utc', 'title', 'subreddit'], dtype='object')\n\nIndex(['id', 'conversation_id', 'created_at', 'date', 'time', 'timezone',\n       'user_id', 'username', 'name', 'place', 'tweet', 'language', 'mentions',\n       'urls', 'photos', 'replies_count', 'retweets_count', 'likes_count',\n       'hashtags', 'cashtags', 'link', 'retweet', 'quote_url', 'video',\n       'thumbnail', 'near', 'geo', 'source', 'user_rt_id', 'user_rt',\n       'retweet_id', 'reply_to', 'retweet_date', 'translate', 'trans_src',\n       'trans_dest'],\n      dtype='object')\n"
     ]
    }
   ],
   "source": [
    "print(TSLA_tweets.columns)\n",
    "print()\n",
    "print(WSB_posts.columns)\n",
    "print()\n",
    "print(SP_tweets.columns)"
   ]
  },
  {
   "cell_type": "code",
   "execution_count": 29,
   "metadata": {},
   "outputs": [
    {
     "output_type": "stream",
     "name": "stdout",
     "text": [
      "2000\n"
     ]
    }
   ],
   "source": [
    "TSLA_tweets = TSLA_tweets[['tweet']]\n",
    "TSLA_tweets['source'] = 'twitter'\n",
    "TSLA_tweets = TSLA_tweets.rename(columns={'tweet':'post'})\n",
    "TSLA_tweets = TSLA_tweets.sample(n=2000)\n",
    "TSLA_tweets.head()\n",
    "print(len(TSLA_tweets.index))"
   ]
  },
  {
   "cell_type": "code",
   "execution_count": 32,
   "metadata": {},
   "outputs": [
    {
     "output_type": "stream",
     "name": "stdout",
     "text": [
      "2000\n"
     ]
    },
    {
     "output_type": "execute_result",
     "data": {
      "text/plain": [
       "                                                    post   source\n",
       "3654   3. Interestingly though, this breadth measure ...  twitter\n",
       "29988  S&amp;P 500 FUTURES AND NASDAQ FUTURES EXTEND ...  twitter\n",
       "27076  @tonythearena @glenntongue @PlugInFUD @Bloodsp...  twitter\n",
       "15296  Since S&amp;P 500 low in Dec 2018, defensive u...  twitter\n",
       "5297   Dragonfly Capital - S&amp;P 500 moving out of ...  twitter"
      ],
      "text/html": "<div>\n<style scoped>\n    .dataframe tbody tr th:only-of-type {\n        vertical-align: middle;\n    }\n\n    .dataframe tbody tr th {\n        vertical-align: top;\n    }\n\n    .dataframe thead th {\n        text-align: right;\n    }\n</style>\n<table border=\"1\" class=\"dataframe\">\n  <thead>\n    <tr style=\"text-align: right;\">\n      <th></th>\n      <th>post</th>\n      <th>source</th>\n    </tr>\n  </thead>\n  <tbody>\n    <tr>\n      <th>3654</th>\n      <td>3. Interestingly though, this breadth measure ...</td>\n      <td>twitter</td>\n    </tr>\n    <tr>\n      <th>29988</th>\n      <td>S&amp;amp;P 500 FUTURES AND NASDAQ FUTURES EXTEND ...</td>\n      <td>twitter</td>\n    </tr>\n    <tr>\n      <th>27076</th>\n      <td>@tonythearena @glenntongue @PlugInFUD @Bloodsp...</td>\n      <td>twitter</td>\n    </tr>\n    <tr>\n      <th>15296</th>\n      <td>Since S&amp;amp;P 500 low in Dec 2018, defensive u...</td>\n      <td>twitter</td>\n    </tr>\n    <tr>\n      <th>5297</th>\n      <td>Dragonfly Capital - S&amp;amp;P 500 moving out of ...</td>\n      <td>twitter</td>\n    </tr>\n  </tbody>\n</table>\n</div>"
     },
     "metadata": {},
     "execution_count": 32
    }
   ],
   "source": [
    "SP_tweets = SP_tweets[['tweet']]\n",
    "SP_tweets['source'] = 'twitter'\n",
    "SP_tweets = SP_tweets.rename(columns={'tweet':'post'})\n",
    "SP_tweets = SP_tweets.sample(n=2000)\n",
    "print(len(SP_tweets.index))\n",
    "SP_tweets.head()"
   ]
  },
  {
   "cell_type": "code",
   "execution_count": 33,
   "metadata": {},
   "outputs": [
    {
     "output_type": "stream",
     "name": "stdout",
     "text": [
      "2000\n"
     ]
    },
    {
     "output_type": "execute_result",
     "data": {
      "text/plain": [
       "                                                post          source\n",
       "0                             $SOS is shorted heavy.  wallstreetbets\n",
       "1  This was my second best investment. party at m...  wallstreetbets\n",
       "2                    AMC and GME short share Info 😊💞  wallstreetbets\n",
       "3  Long time lurker here, loving the GME DDs but ...  wallstreetbets\n",
       "4  Can we start a petition for Elon to name his n...  wallstreetbets"
      ],
      "text/html": "<div>\n<style scoped>\n    .dataframe tbody tr th:only-of-type {\n        vertical-align: middle;\n    }\n\n    .dataframe tbody tr th {\n        vertical-align: top;\n    }\n\n    .dataframe thead th {\n        text-align: right;\n    }\n</style>\n<table border=\"1\" class=\"dataframe\">\n  <thead>\n    <tr style=\"text-align: right;\">\n      <th></th>\n      <th>post</th>\n      <th>source</th>\n    </tr>\n  </thead>\n  <tbody>\n    <tr>\n      <th>0</th>\n      <td>$SOS is shorted heavy.</td>\n      <td>wallstreetbets</td>\n    </tr>\n    <tr>\n      <th>1</th>\n      <td>This was my second best investment. party at m...</td>\n      <td>wallstreetbets</td>\n    </tr>\n    <tr>\n      <th>2</th>\n      <td>AMC and GME short share Info 😊💞</td>\n      <td>wallstreetbets</td>\n    </tr>\n    <tr>\n      <th>3</th>\n      <td>Long time lurker here, loving the GME DDs but ...</td>\n      <td>wallstreetbets</td>\n    </tr>\n    <tr>\n      <th>4</th>\n      <td>Can we start a petition for Elon to name his n...</td>\n      <td>wallstreetbets</td>\n    </tr>\n  </tbody>\n</table>\n</div>"
     },
     "metadata": {},
     "execution_count": 33
    }
   ],
   "source": [
    "WSB_posts = WSB_posts[['title', 'subreddit']]\n",
    "WSB_posts = WSB_posts.rename(columns={'title':'post', 'subreddit':'source'})\n",
    "print(len(WSB_posts.index))\n",
    "WSB_posts.head()"
   ]
  },
  {
   "cell_type": "code",
   "execution_count": 34,
   "metadata": {},
   "outputs": [],
   "source": [
    "dfs = [TSLA_tweets, SP_tweets, WSB_posts]\n",
    "result = pd.concat(dfs)"
   ]
  },
  {
   "cell_type": "code",
   "execution_count": 35,
   "metadata": {},
   "outputs": [
    {
     "output_type": "execute_result",
     "data": {
      "text/plain": [
       "6000"
      ]
     },
     "metadata": {},
     "execution_count": 35
    }
   ],
   "source": [
    "len(result.index)"
   ]
  },
  {
   "cell_type": "code",
   "execution_count": 1,
   "metadata": {},
   "outputs": [],
   "source": [
    "def clean_posts(post):\n",
    "    # Rmove @s\n",
    "    text = re.sub(r\"(?:\\@|https?\\://)\\S+\", \"\", s)\n",
    "    # Remove hyperlinks \n",
    "    result = re.sub(r\"(?:\\@|https?\\://)\\S+\", \"\", post)\n",
    "    # Remove trailing and leading whitespace\n",
    "    result = result.strip()\n",
    "    return result"
   ]
  },
  {
   "cell_type": "code",
   "execution_count": 39,
   "metadata": {},
   "outputs": [
    {
     "output_type": "execute_result",
     "data": {
      "text/plain": [
       "'123 tsla goes boom'"
      ]
     },
     "metadata": {},
     "execution_count": 39
    }
   ],
   "source": [
    "s = \"@test 123 tsla goes boom https://stackoverflow.com/questions/\"\n",
    "text = re.sub(r\"(?:\\@|https?\\://)\\S+\", \"\", s)\n",
    "text = text.strip()\n",
    "text"
   ]
  },
  {
   "cell_type": "code",
   "execution_count": null,
   "metadata": {},
   "outputs": [],
   "source": []
  }
 ]
}